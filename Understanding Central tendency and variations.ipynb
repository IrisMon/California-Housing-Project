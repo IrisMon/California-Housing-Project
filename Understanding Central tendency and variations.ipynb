{
 "cells": [
  {
   "cell_type": "code",
   "execution_count": 1,
   "metadata": {},
   "outputs": [],
   "source": [
    "import pandas as pd\n",
    "import numpy as np\n",
    "from scipy import stats \n",
    "import matplotlib.pyplot as plt"
   ]
  },
  {
   "cell_type": "code",
   "execution_count": 2,
   "metadata": {},
   "outputs": [],
   "source": [
    "data = pd.read_csv('housing.csv') #reading data set into a dataframe"
   ]
  },
  {
   "cell_type": "code",
   "execution_count": 3,
   "metadata": {},
   "outputs": [],
   "source": [
    "data_num = data.select_dtypes(exclude=['object'])  #selecting the numerical values\n",
    "data_col = data.select_dtypes(exclude=['object']).columns #saving the features name"
   ]
  },
  {
   "cell_type": "code",
   "execution_count": 4,
   "metadata": {},
   "outputs": [],
   "source": [
    "data_array = np.array(data_num) #converting dataframe to numpy array"
   ]
  },
  {
   "cell_type": "markdown",
   "metadata": {},
   "source": [
    "### Calculating the Mean"
   ]
  },
  {
   "cell_type": "code",
   "execution_count": 7,
   "metadata": {},
   "outputs": [],
   "source": [
    "n_mean = np.nanmean(data_array, axis=0) "
   ]
  },
  {
   "cell_type": "code",
   "execution_count": 8,
   "metadata": {
    "scrolled": true
   },
   "outputs": [
    {
     "data": {
      "text/html": [
       "<div>\n",
       "<style scoped>\n",
       "    .dataframe tbody tr th:only-of-type {\n",
       "        vertical-align: middle;\n",
       "    }\n",
       "\n",
       "    .dataframe tbody tr th {\n",
       "        vertical-align: top;\n",
       "    }\n",
       "\n",
       "    .dataframe thead th {\n",
       "        text-align: right;\n",
       "    }\n",
       "</style>\n",
       "<table border=\"1\" class=\"dataframe\">\n",
       "  <thead>\n",
       "    <tr style=\"text-align: right;\">\n",
       "      <th></th>\n",
       "      <th>Variable</th>\n",
       "      <th>Mean</th>\n",
       "    </tr>\n",
       "  </thead>\n",
       "  <tbody>\n",
       "    <tr>\n",
       "      <th>0</th>\n",
       "      <td>longitude</td>\n",
       "      <td>-119.569704</td>\n",
       "    </tr>\n",
       "    <tr>\n",
       "      <th>1</th>\n",
       "      <td>latitude</td>\n",
       "      <td>35.631861</td>\n",
       "    </tr>\n",
       "    <tr>\n",
       "      <th>2</th>\n",
       "      <td>housing_median_age</td>\n",
       "      <td>28.639486</td>\n",
       "    </tr>\n",
       "    <tr>\n",
       "      <th>3</th>\n",
       "      <td>total_rooms</td>\n",
       "      <td>2635.763081</td>\n",
       "    </tr>\n",
       "    <tr>\n",
       "      <th>4</th>\n",
       "      <td>total_bedrooms</td>\n",
       "      <td>537.870553</td>\n",
       "    </tr>\n",
       "    <tr>\n",
       "      <th>5</th>\n",
       "      <td>population</td>\n",
       "      <td>1425.476744</td>\n",
       "    </tr>\n",
       "    <tr>\n",
       "      <th>6</th>\n",
       "      <td>households</td>\n",
       "      <td>499.539680</td>\n",
       "    </tr>\n",
       "    <tr>\n",
       "      <th>7</th>\n",
       "      <td>median_income</td>\n",
       "      <td>3.870671</td>\n",
       "    </tr>\n",
       "    <tr>\n",
       "      <th>8</th>\n",
       "      <td>median_house_value</td>\n",
       "      <td>206855.816909</td>\n",
       "    </tr>\n",
       "  </tbody>\n",
       "</table>\n",
       "</div>"
      ],
      "text/plain": [
       "             Variable           Mean\n",
       "0           longitude    -119.569704\n",
       "1            latitude      35.631861\n",
       "2  housing_median_age      28.639486\n",
       "3         total_rooms    2635.763081\n",
       "4      total_bedrooms     537.870553\n",
       "5          population    1425.476744\n",
       "6          households     499.539680\n",
       "7       median_income       3.870671\n",
       "8  median_house_value  206855.816909"
      ]
     },
     "execution_count": 8,
     "metadata": {},
     "output_type": "execute_result"
    }
   ],
   "source": [
    "### Representing it in a dataframe\n",
    "mean = {\n",
    "    'Variable': data_col,\n",
    "    'Mean': n_mean\n",
    "} \n",
    "mean = pd.DataFrame(mean)\n",
    "mean"
   ]
  },
  {
   "cell_type": "markdown",
   "metadata": {},
   "source": [
    "### Calculating the 'Trimmed Mean'\n",
    "\n",
    "To peform trimmed mean, we will use the stats.trim_mean function in the scipy library. \n",
    "0.1 is equivalant of 10% which represents the trimmed(removed portion of the extreme values) precentage from \n",
    "the data"
   ]
  },
  {
   "cell_type": "code",
   "execution_count": null,
   "metadata": {},
   "outputs": [],
   "source": [
    "tmean = stats.trim_mean(data_array, 0.1)"
   ]
  },
  {
   "cell_type": "code",
   "execution_count": null,
   "metadata": {},
   "outputs": [],
   "source": [
    "tmean = list(tmean)  #converting to list data structure\n",
    "data_col = list(data_col) #converting to list data structure\n",
    "\n",
    "trimed_mean ={\n",
    "    'Variable': data_col,\n",
    "    'Trimmed mean': tmean\n",
    "} \n",
    "trimed_mean = pd.DataFrame(trimed_mean)\n",
    "trimed_mean"
   ]
  },
  {
   "cell_type": "markdown",
   "metadata": {},
   "source": [
    "### Weighted mean\n",
    "\n",
    "Since we are perform weighted mean, it is ideal for the weight to be the population so we can compensates the\n",
    "various groups in the sample."
   ]
  },
  {
   "cell_type": "code",
   "execution_count": null,
   "metadata": {},
   "outputs": [],
   "source": [
    "wt_avg = []\n",
    "for item in data_col:\n",
    "    if item == 'population':\n",
    "        ma = np.ma.MaskedArray(data[item], mask=np.isnan((data[item])))\n",
    "        w_avg = np.ma.average(ma, axis=0, weights= data['population'])\n",
    "        w_avg = w_avg/2\n",
    "        wt_avg.append(w_avg)\n",
    "    else:\n",
    "        ma = np.ma.MaskedArray(data[item], mask=np.isnan((data[item])))\n",
    "        w_avg = np.ma.average(ma, axis=0, weights= data['population'])\n",
    "        wt_avg.append(w_avg)"
   ]
  },
  {
   "cell_type": "code",
   "execution_count": null,
   "metadata": {},
   "outputs": [],
   "source": [
    "# wt_avg = list(wt_avg)\n",
    "weighted_mean ={\n",
    "    'Variable': data_col,\n",
    "    'Weighted mean': wt_avg\n",
    "} \n",
    "weighted_mean = pd.DataFrame(weighted_mean)\n",
    "weighted_mean"
   ]
  },
  {
   "cell_type": "markdown",
   "metadata": {},
   "source": [
    "### Median"
   ]
  },
  {
   "cell_type": "code",
   "execution_count": null,
   "metadata": {},
   "outputs": [],
   "source": [
    "n_median = np.nanmedian(data_array, axis=0) #n_median is just representing the normal median"
   ]
  },
  {
   "cell_type": "code",
   "execution_count": null,
   "metadata": {},
   "outputs": [],
   "source": [
    "### Representing it in a dataframe\n",
    "median = {\n",
    "    'Variable': data_col,\n",
    "    'Mean': n_median\n",
    "} \n",
    "median = pd.DataFrame(median)\n",
    "median"
   ]
  },
  {
   "cell_type": "markdown",
   "metadata": {},
   "source": [
    "### weighted median\n",
    "\n",
    "To calcualate this, we will use wquantiles library, this library is based on numpy, which is the only dependence."
   ]
  },
  {
   "cell_type": "code",
   "execution_count": null,
   "metadata": {},
   "outputs": [],
   "source": [
    "# ! pip install wquantiles"
   ]
  },
  {
   "cell_type": "code",
   "execution_count": null,
   "metadata": {},
   "outputs": [],
   "source": [
    "import weighted"
   ]
  },
  {
   "cell_type": "code",
   "execution_count": null,
   "metadata": {},
   "outputs": [],
   "source": [
    "wt_median = []\n",
    "weights = data['population']\n",
    "\n",
    "for item in data_col:  \n",
    "    if item == 'population':\n",
    "        w_median = weighted.median(data[item], weights)\n",
    "        w_median = w_median/2\n",
    "        wt_median.append(w_median)\n",
    "    else:\n",
    "        w_median = weighted.median(data[item], weights)\n",
    "        wt_median.append(w_median)"
   ]
  },
  {
   "cell_type": "code",
   "execution_count": null,
   "metadata": {},
   "outputs": [],
   "source": [
    "weighted_median ={\n",
    "    'Variable': data_col,\n",
    "    'Weighted median': wt_median\n",
    "} \n",
    "weighted_median = pd.DataFrame(weighted_median)\n",
    "weighted_median"
   ]
  },
  {
   "cell_type": "markdown",
   "metadata": {},
   "source": [
    "### Mode\n",
    "\n",
    "We will analysis the mode with categorical data"
   ]
  },
  {
   "cell_type": "code",
   "execution_count": null,
   "metadata": {},
   "outputs": [],
   "source": [
    "data_cat = data.select_dtypes(exclude=['int64', 'float64'])  #selecting the numerical values\n",
    "#data_cat = list(data_cat)"
   ]
  },
  {
   "cell_type": "code",
   "execution_count": null,
   "metadata": {},
   "outputs": [],
   "source": [
    "n_mode = stats.mode(data_cat) \n",
    "n_mode"
   ]
  },
  {
   "cell_type": "code",
   "execution_count": null,
   "metadata": {},
   "outputs": [],
   "source": [
    "mode ={\n",
    "    'Variable': n_mode[0][0][0],\n",
    "    'higest occurrence': n_mode[1][0][0]\n",
    "} "
   ]
  },
  {
   "cell_type": "code",
   "execution_count": null,
   "metadata": {},
   "outputs": [],
   "source": [
    "mode"
   ]
  },
  {
   "cell_type": "code",
   "execution_count": null,
   "metadata": {},
   "outputs": [],
   "source": [
    "mode = pd.DataFrame(mode, index=[0])\n",
    "mode"
   ]
  },
  {
   "cell_type": "code",
   "execution_count": null,
   "metadata": {},
   "outputs": [],
   "source": []
  },
  {
   "cell_type": "code",
   "execution_count": null,
   "metadata": {},
   "outputs": [],
   "source": []
  }
 ],
 "metadata": {
  "kernelspec": {
   "display_name": "Python 3",
   "language": "python",
   "name": "python3"
  },
  "language_info": {
   "codemirror_mode": {
    "name": "ipython",
    "version": 3
   },
   "file_extension": ".py",
   "mimetype": "text/x-python",
   "name": "python",
   "nbconvert_exporter": "python",
   "pygments_lexer": "ipython3",
   "version": "3.7.3"
  }
 },
 "nbformat": 4,
 "nbformat_minor": 2
}
